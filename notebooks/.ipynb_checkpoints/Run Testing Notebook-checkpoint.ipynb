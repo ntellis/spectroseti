{
 "cells": [
  {
   "cell_type": "markdown",
   "metadata": {},
   "source": [
    "# Some basic environment setup"
   ]
  },
  {
   "cell_type": "code",
   "execution_count": 1,
   "metadata": {},
   "outputs": [],
   "source": [
    "#Let's set up the environment for Spectroseti\n",
    "\n",
    "import sys\n",
    "sys.path.append('/mir3/ntellis/spectroseti')\n",
    "import matplotlib\n",
    "matplotlib.use('Agg')\n",
    "import matplotlib.pyplot as plt\n",
    "import numpy as np\n",
    "from astropy.io import fits\n",
    "import spectroseti.apf as apf\n",
    "import spectroseti.utilities as util\n",
    "import spectroseti.runner as runner\n",
    "import spectroseti.apfdefinitions as apfdefs\n",
    "import spectroseti.definitions as defs\n",
    "import spectroseti.output as output\n",
    "from pathos.multiprocessing import ProcessingPool as Pool\n",
    "from os import listdir"
   ]
  },
  {
   "cell_type": "markdown",
   "metadata": {},
   "source": [
    "Cool, so we now our environment is set up, let's try running a star and generating the output"
   ]
  },
  {
   "cell_type": "code",
   "execution_count": 4,
   "metadata": {},
   "outputs": [
    {
     "name": "stderr",
     "output_type": "stream",
     "text": [
      "\r",
      "  0%|          | 0/79 [00:00<?, ?it/s]"
     ]
    },
    {
     "name": "stdout",
     "output_type": "stream",
     "text": [
      "Searching order-by-order...\n"
     ]
    },
    {
     "name": "stderr",
     "output_type": "stream",
     "text": [
      "                                               \r"
     ]
    }
   ],
   "source": [
    "# Load the laser search class\n",
    "LS = runner.LaserSearch()\n",
    "\n",
    "# Run search on one target\n",
    "runspec = LS.search_one('bac',273)\n",
    "raw = apf.APFRawObs('bac',273)\n",
    "ndev = len(runspec.devs)\n",
    "for i in range(ndev):\n",
    "    output.view_dev(runspec,devnum=i,raw=raw,save='/mir3/ntellis/output/unsorted/', nmads=6)"
   ]
  },
  {
   "cell_type": "markdown",
   "metadata": {},
   "source": [
    "Now searching multiple at one time:"
   ]
  },
  {
   "cell_type": "code",
   "execution_count": 2,
   "metadata": {},
   "outputs": [
    {
     "name": "stdout",
     "output_type": "stream",
     "text": [
      "['bez', 217]\n",
      "['bez', 229]\n",
      "Beginning Meanshift deblazing\n",
      "Beginning Meanshift deblazing\n",
      "Searching order-by-order...\n"
     ]
    },
    {
     "name": "stderr",
     "output_type": "stream",
     "text": [
      "\r",
      "  0%|          | 0/79 [00:00<?, ?it/s]"
     ]
    },
    {
     "name": "stdout",
     "output_type": "stream",
     "text": [
      "Searching order-by-order...\n"
     ]
    },
    {
     "name": "stderr",
     "output_type": "stream",
     "text": [
      "  0%|          | 0/79 [00:00<?, ?it/s]/mir3/ntellis/miniconda2/lib/python2.7/site-packages/numpy/core/fromnumeric.py:2957: RuntimeWarning: Mean of empty slice.\n",
      "  out=out, **kwargs)\n",
      "/mir3/ntellis/miniconda2/lib/python2.7/site-packages/numpy/core/_methods.py:80: RuntimeWarning: invalid value encountered in double_scalars\n",
      "  ret = ret.dtype.type(ret / rcount)\n",
      "/mir3/ntellis/spectroseti/spectroseti/utilities.py:435: RuntimeWarning: invalid value encountered in greater\n",
      "  for start, stop in contiguous_regions(order > thresh):\n",
      "                                               "
     ]
    },
    {
     "name": "stdout",
     "output_type": "stream",
     "text": [
      "got here\n",
      "Writing output images to /mir3/ntellis/output/\n"
     ]
    },
    {
     "name": "stderr",
     "output_type": "stream",
     "text": [
      "\r",
      "                                               "
     ]
    },
    {
     "name": "stdout",
     "output_type": "stream",
     "text": [
      "got here\n",
      "Writing output images to /mir3/ntellis/output/\n",
      "['bez', 223]\n",
      "Beginning Meanshift deblazing\n",
      "['bez', 235]\n",
      "Beginning Meanshift deblazing\n",
      "Searching order-by-order...\n"
     ]
    },
    {
     "name": "stderr",
     "output_type": "stream",
     "text": [
      " 61%|██████    | 48/79 [00:30<00:19,  1.56it/s]"
     ]
    },
    {
     "name": "stdout",
     "output_type": "stream",
     "text": [
      "Searching order-by-order...\n"
     ]
    },
    {
     "name": "stderr",
     "output_type": "stream",
     "text": [
      "                                               "
     ]
    },
    {
     "name": "stdout",
     "output_type": "stream",
     "text": [
      "got here\n",
      "Writing output images to /mir3/ntellis/output/\n"
     ]
    },
    {
     "name": "stderr",
     "output_type": "stream",
     "text": [
      " 61%|██████    | 48/79 [00:31<00:20,  1.54it/s]"
     ]
    },
    {
     "name": "stdout",
     "output_type": "stream",
     "text": [
      "['bez', 179]\n",
      "Beginning Meanshift deblazing\n"
     ]
    },
    {
     "name": "stderr",
     "output_type": "stream",
     "text": [
      "                                               "
     ]
    },
    {
     "name": "stdout",
     "output_type": "stream",
     "text": [
      "got here\n",
      "Writing output images to /mir3/ntellis/output/\n",
      "['bez', 186]\n",
      "Beginning Meanshift deblazing\n",
      "Searching order-by-order...\n"
     ]
    },
    {
     "name": "stderr",
     "output_type": "stream",
     "text": [
      " 30%|███       | 24/79 [00:15<00:35,  1.53it/s]"
     ]
    },
    {
     "name": "stdout",
     "output_type": "stream",
     "text": [
      "Searching order-by-order...\n"
     ]
    },
    {
     "name": "stderr",
     "output_type": "stream",
     "text": [
      "                                               "
     ]
    },
    {
     "name": "stdout",
     "output_type": "stream",
     "text": [
      "got here\n",
      "Writing output images to /mir3/ntellis/output/\n"
     ]
    },
    {
     "name": "stderr",
     "output_type": "stream",
     "text": [
      " 81%|████████  | 64/79 [00:42<00:09,  1.52it/s]"
     ]
    },
    {
     "name": "stdout",
     "output_type": "stream",
     "text": [
      "['bez', 211]\n",
      "Beginning Meanshift deblazing\n"
     ]
    },
    {
     "name": "stderr",
     "output_type": "stream",
     "text": [
      "                                               "
     ]
    },
    {
     "name": "stdout",
     "output_type": "stream",
     "text": [
      "got here\n",
      "Writing output images to /mir3/ntellis/output/\n",
      "['bez', 199]\n",
      "Beginning Meanshift deblazing\n",
      "Searching order-by-order...\n"
     ]
    },
    {
     "name": "stderr",
     "output_type": "stream",
     "text": [
      " 51%|█████     | 40/79 [00:24<00:24,  1.60it/s]"
     ]
    },
    {
     "name": "stdout",
     "output_type": "stream",
     "text": [
      "Searching order-by-order...\n"
     ]
    },
    {
     "name": "stderr",
     "output_type": "stream",
     "text": [
      "                                               "
     ]
    },
    {
     "name": "stdout",
     "output_type": "stream",
     "text": [
      "got here\n",
      "Writing output images to /mir3/ntellis/output/\n"
     ]
    },
    {
     "name": "stderr",
     "output_type": "stream",
     "text": [
      "\r",
      " 41%|████      | 32/79 [00:22<00:33,  1.42it/s]"
     ]
    },
    {
     "name": "stdout",
     "output_type": "stream",
     "text": [
      "['bez', 193]\n",
      "Beginning Meanshift deblazing\n"
     ]
    },
    {
     "name": "stderr",
     "output_type": "stream",
     "text": [
      "                                               "
     ]
    },
    {
     "name": "stdout",
     "output_type": "stream",
     "text": [
      "got here\n",
      "Writing output images to /mir3/ntellis/output/\n",
      "['bez', 241]\n",
      "Beginning Meanshift deblazing\n",
      "Searching order-by-order...\n"
     ]
    },
    {
     "name": "stderr",
     "output_type": "stream",
     "text": [
      "  0%|          | 0/79 [00:00<?, ?it/s]/mir3/ntellis/miniconda2/lib/python2.7/site-packages/numpy/core/fromnumeric.py:2957: RuntimeWarning: Mean of empty slice.\n",
      "  out=out, **kwargs)\n",
      "/mir3/ntellis/miniconda2/lib/python2.7/site-packages/numpy/core/_methods.py:80: RuntimeWarning: invalid value encountered in double_scalars\n",
      "  ret = ret.dtype.type(ret / rcount)\n",
      "/mir3/ntellis/spectroseti/spectroseti/utilities.py:435: RuntimeWarning: invalid value encountered in greater\n",
      "  for start, stop in contiguous_regions(order > thresh):\n",
      " 51%|█████     | 40/79 [00:26<00:25,  1.52it/s]"
     ]
    },
    {
     "name": "stdout",
     "output_type": "stream",
     "text": [
      "Searching order-by-order...\n"
     ]
    },
    {
     "name": "stderr",
     "output_type": "stream",
     "text": [
      "                                               "
     ]
    },
    {
     "name": "stdout",
     "output_type": "stream",
     "text": [
      "got here\n",
      "Writing output images to /mir3/ntellis/output/\n"
     ]
    },
    {
     "name": "stderr",
     "output_type": "stream",
     "text": [
      "\r",
      " 51%|█████     | 40/79 [00:26<00:25,  1.53it/s]"
     ]
    },
    {
     "name": "stdout",
     "output_type": "stream",
     "text": [
      "['bez', 247]\n",
      "Beginning Meanshift deblazing\n"
     ]
    },
    {
     "name": "stderr",
     "output_type": "stream",
     "text": [
      "                                               "
     ]
    },
    {
     "name": "stdout",
     "output_type": "stream",
     "text": [
      "got here\n",
      "Writing output images to /mir3/ntellis/output/\n",
      "Searching order-by-order...\n"
     ]
    },
    {
     "name": "stderr",
     "output_type": "stream",
     "text": [
      "                                               "
     ]
    },
    {
     "name": "stdout",
     "output_type": "stream",
     "text": [
      "got here\n",
      "Writing output images to /mir3/ntellis/output/\n"
     ]
    }
   ],
   "source": [
    "LS = runner.LaserSearch()\n",
    "bezrun = [['bez', 217], ['bez', 235], ['bez', 229], ['bez', 223], ['bez', 179], ['bez', 211], ['bez', 186],\n",
    "          ['bez', 199], ['bez', 193], ['bez', 247], ['bez', 241]]\n",
    "p = Pool(2)\n",
    "search_multi = lambda x: LS.search_multiple([x], output_pngs=1,number_mads=10)\n",
    "\n",
    "pool_output = Pool.map(p, search_multi, bezrun)"
   ]
  },
  {
   "cell_type": "code",
   "execution_count": 1,
   "metadata": {},
   "outputs": [
    {
     "name": "stdout",
     "output_type": "stream",
     "text": [
      "hello world\n"
     ]
    }
   ],
   "source": [
    "print('hello world')"
   ]
  },
  {
   "cell_type": "code",
   "execution_count": 4,
   "metadata": {},
   "outputs": [
    {
     "name": "stdout",
     "output_type": "stream",
     "text": [
      "['rbez.217.fits', 'rbez.235.fits', 'rbez.229.fits', 'rbez.223.fits', 'rbez.179.fits', 'rbez.211.fits', 'rbez.186.fits', 'rbez.199.fits', 'rbez.193.fits', 'rbez.247.fits', 'rbez.241.fits', 'rbez.205.fits', 'rbez.218.fits', 'rbez.236.fits', 'rbez.230.fits', 'rbez.242.fits', 'rbez.212.fits', 'rbez.200.fits', 'rbez.187.fits', 'rbez.180.fits', 'rbez.248.fits', 'rbez.194.fits', 'rbez.224.fits', 'rbez.206.fits', 'rbez.219.fits', 'rbez.243.fits', 'rbez.237.fits', 'rbez.213.fits', 'rbez.188.fits', 'rbez.201.fits', 'rbez.231.fits', 'rbez.195.fits', 'rbez.181.fits', 'rbez.249.fits', 'rbez.207.fits', 'rbez.225.fits', 'rbez.220.fits', 'rbez.244.fits', 'rbez.238.fits', 'rbez.214.fits', 'rbez.202.fits', 'rbez.189.fits', 'rbez.196.fits', 'rbez.182.fits', 'rbez.232.fits', 'rbez.208.fits', 'rbez.250.fits', 'rbez.226.fits', 'rbez.221.fits', 'rbez.245.fits', 'rbez.239.fits', 'rbez.215.fits', 'rbez.197.fits', 'rbez.203.fits', 'rbez.183.fits', 'rbez.233.fits', 'rbez.209.fits', 'rbez.222.fits', 'rbez.227.fits', 'rbez.190.fits', 'rbez.190_skysub.fits', 'rbez.246.fits', 'rbez.251.fits', 'rbez.240.fits', 'rbez.216.fits', 'rbez.198.fits', 'rbez.184.fits', 'rbez.204.fits', 'rbez.210.fits', 'rbez.234.fits', 'rbez.228.fits', 'rbez.191.fits', 'rbez.252.fits', 'rbez.185.fits', 'rbez.171.fits', 'rbez.172.fits', 'rbez.192.fits', 'rbez.173.fits', 'rbez.174.fits', 'rbez.175.fits', 'rbez.176.fits', 'rbez.177.fits', 'rbez.178.fits']\n",
      "[['bez', 217], ['bez', 235], ['bez', 229], ['bez', 223], ['bez', 179], ['bez', 211], ['bez', 186], ['bez', 199], ['bez', 193], ['bez', 247], ['bez', 241], ['bez', 205], ['bez', 218], ['bez', 236], ['bez', 230], ['bez', 242], ['bez', 212], ['bez', 200], ['bez', 187], ['bez', 180], ['bez', 248], ['bez', 194], ['bez', 224], ['bez', 206], ['bez', 219], ['bez', 243], ['bez', 237], ['bez', 213], ['bez', 188], ['bez', 201], ['bez', 231], ['bez', 195], ['bez', 181], ['bez', 249], ['bez', 207], ['bez', 225], ['bez', 220], ['bez', 244], ['bez', 238], ['bez', 214], ['bez', 202], ['bez', 189], ['bez', 196], ['bez', 182], ['bez', 232], ['bez', 208], ['bez', 250], ['bez', 226], ['bez', 221], ['bez', 245], ['bez', 239], ['bez', 215], ['bez', 197], ['bez', 203], ['bez', 183], ['bez', 233], ['bez', 209], ['bez', 222], ['bez', 227], ['bez', 190], ['bez', 190], ['bez', 246], ['bez', 251], ['bez', 240], ['bez', 216], ['bez', 198], ['bez', 184], ['bez', 204], ['bez', 210], ['bez', 234], ['bez', 228], ['bez', 191], ['bez', 252], ['bez', 185], ['bez', 171], ['bez', 172], ['bez', 192], ['bez', 173], ['bez', 174], ['bez', 175], ['bez', 176], ['bez', 177], ['bez', 178]]\n"
     ]
    }
   ],
   "source": [
    "all_reduced = np.array(listdir('/mir4/iodfits'))\n",
    "bac = [fn for fn in all_reduced if fn[1:4] == 'bez']\n",
    "print(bac)\n",
    "acc = []\n",
    "for fn in bac:\n",
    "    st = fn.split('.')\n",
    "    acc.append([st[0][1:],int(st[1][:3])])\n",
    "print(acc)"
   ]
  },
  {
   "cell_type": "code",
   "execution_count": 7,
   "metadata": {},
   "outputs": [
    {
     "ename": "NameError",
     "evalue": "global name 'LS' is not defined",
     "output_type": "error",
     "traceback": [
      "\u001b[0;31m---------------------------------------------------------------------------\u001b[0m",
      "\u001b[0;31mNameError\u001b[0m                                 Traceback (most recent call last)",
      "\u001b[0;32m<ipython-input-7-86d77b183d08>\u001b[0m in \u001b[0;36m<module>\u001b[0;34m()\u001b[0m\n\u001b[1;32m      2\u001b[0m \u001b[0mp\u001b[0m \u001b[0;34m=\u001b[0m \u001b[0mPool\u001b[0m\u001b[0;34m(\u001b[0m\u001b[0;36m2\u001b[0m\u001b[0;34m)\u001b[0m\u001b[0;34m\u001b[0m\u001b[0m\n\u001b[1;32m      3\u001b[0m \u001b[0msearch_multi\u001b[0m \u001b[0;34m=\u001b[0m \u001b[0;32mlambda\u001b[0m \u001b[0mx\u001b[0m\u001b[0;34m:\u001b[0m \u001b[0mLS\u001b[0m\u001b[0;34m.\u001b[0m\u001b[0msearch_multiple\u001b[0m\u001b[0;34m(\u001b[0m\u001b[0;34m[\u001b[0m\u001b[0mx\u001b[0m\u001b[0;34m]\u001b[0m\u001b[0;34m,\u001b[0m \u001b[0moutput_pngs\u001b[0m\u001b[0;34m=\u001b[0m\u001b[0;36m1\u001b[0m\u001b[0;34m,\u001b[0m\u001b[0mnumber_mads\u001b[0m\u001b[0;34m=\u001b[0m\u001b[0;36m10\u001b[0m\u001b[0;34m)\u001b[0m\u001b[0;34m\u001b[0m\u001b[0m\n\u001b[0;32m----> 4\u001b[0;31m \u001b[0mpool_output\u001b[0m \u001b[0;34m=\u001b[0m \u001b[0mPool\u001b[0m\u001b[0;34m.\u001b[0m\u001b[0mmap\u001b[0m\u001b[0;34m(\u001b[0m\u001b[0mp\u001b[0m\u001b[0;34m,\u001b[0m \u001b[0msearch_multi\u001b[0m\u001b[0;34m,\u001b[0m \u001b[0macc\u001b[0m\u001b[0;34m[\u001b[0m\u001b[0;34m:\u001b[0m\u001b[0;36m3\u001b[0m\u001b[0;34m]\u001b[0m\u001b[0;34m)\u001b[0m\u001b[0;34m\u001b[0m\u001b[0m\n\u001b[0m",
      "\u001b[0;32m/mir3/ntellis/miniconda2/lib/python2.7/site-packages/pathos/multiprocessing.pyc\u001b[0m in \u001b[0;36mmap\u001b[0;34m(self, f, *args, **kwds)\u001b[0m\n\u001b[1;32m    135\u001b[0m         \u001b[0mAbstractWorkerPool\u001b[0m\u001b[0;34m.\u001b[0m\u001b[0m_AbstractWorkerPool__map\u001b[0m\u001b[0;34m(\u001b[0m\u001b[0mself\u001b[0m\u001b[0;34m,\u001b[0m \u001b[0mf\u001b[0m\u001b[0;34m,\u001b[0m \u001b[0;34m*\u001b[0m\u001b[0margs\u001b[0m\u001b[0;34m,\u001b[0m \u001b[0;34m**\u001b[0m\u001b[0mkwds\u001b[0m\u001b[0;34m)\u001b[0m\u001b[0;34m\u001b[0m\u001b[0m\n\u001b[1;32m    136\u001b[0m         \u001b[0m_pool\u001b[0m \u001b[0;34m=\u001b[0m \u001b[0mself\u001b[0m\u001b[0;34m.\u001b[0m\u001b[0m_serve\u001b[0m\u001b[0;34m(\u001b[0m\u001b[0;34m)\u001b[0m\u001b[0;34m\u001b[0m\u001b[0m\n\u001b[0;32m--> 137\u001b[0;31m         \u001b[0;32mreturn\u001b[0m \u001b[0m_pool\u001b[0m\u001b[0;34m.\u001b[0m\u001b[0mmap\u001b[0m\u001b[0;34m(\u001b[0m\u001b[0mstar\u001b[0m\u001b[0;34m(\u001b[0m\u001b[0mf\u001b[0m\u001b[0;34m)\u001b[0m\u001b[0;34m,\u001b[0m \u001b[0mzip\u001b[0m\u001b[0;34m(\u001b[0m\u001b[0;34m*\u001b[0m\u001b[0margs\u001b[0m\u001b[0;34m)\u001b[0m\u001b[0;34m)\u001b[0m \u001b[0;31m# chunksize\u001b[0m\u001b[0;34m\u001b[0m\u001b[0m\n\u001b[0m\u001b[1;32m    138\u001b[0m     \u001b[0mmap\u001b[0m\u001b[0;34m.\u001b[0m\u001b[0m__doc__\u001b[0m \u001b[0;34m=\u001b[0m \u001b[0mAbstractWorkerPool\u001b[0m\u001b[0;34m.\u001b[0m\u001b[0mmap\u001b[0m\u001b[0;34m.\u001b[0m\u001b[0m__doc__\u001b[0m\u001b[0;34m\u001b[0m\u001b[0m\n\u001b[1;32m    139\u001b[0m     \u001b[0;32mdef\u001b[0m \u001b[0mimap\u001b[0m\u001b[0;34m(\u001b[0m\u001b[0mself\u001b[0m\u001b[0;34m,\u001b[0m \u001b[0mf\u001b[0m\u001b[0;34m,\u001b[0m \u001b[0;34m*\u001b[0m\u001b[0margs\u001b[0m\u001b[0;34m,\u001b[0m \u001b[0;34m**\u001b[0m\u001b[0mkwds\u001b[0m\u001b[0;34m)\u001b[0m\u001b[0;34m:\u001b[0m\u001b[0;34m\u001b[0m\u001b[0m\n",
      "\u001b[0;32m/mir3/ntellis/miniconda2/lib/python2.7/site-packages/multiprocess/pool.pyc\u001b[0m in \u001b[0;36mmap\u001b[0;34m(self, func, iterable, chunksize)\u001b[0m\n\u001b[1;32m    249\u001b[0m         '''\n\u001b[1;32m    250\u001b[0m         \u001b[0;32massert\u001b[0m \u001b[0mself\u001b[0m\u001b[0;34m.\u001b[0m\u001b[0m_state\u001b[0m \u001b[0;34m==\u001b[0m \u001b[0mRUN\u001b[0m\u001b[0;34m\u001b[0m\u001b[0m\n\u001b[0;32m--> 251\u001b[0;31m         \u001b[0;32mreturn\u001b[0m \u001b[0mself\u001b[0m\u001b[0;34m.\u001b[0m\u001b[0mmap_async\u001b[0m\u001b[0;34m(\u001b[0m\u001b[0mfunc\u001b[0m\u001b[0;34m,\u001b[0m \u001b[0miterable\u001b[0m\u001b[0;34m,\u001b[0m \u001b[0mchunksize\u001b[0m\u001b[0;34m)\u001b[0m\u001b[0;34m.\u001b[0m\u001b[0mget\u001b[0m\u001b[0;34m(\u001b[0m\u001b[0;34m)\u001b[0m\u001b[0;34m\u001b[0m\u001b[0m\n\u001b[0m\u001b[1;32m    252\u001b[0m \u001b[0;34m\u001b[0m\u001b[0m\n\u001b[1;32m    253\u001b[0m     \u001b[0;32mdef\u001b[0m \u001b[0mimap\u001b[0m\u001b[0;34m(\u001b[0m\u001b[0mself\u001b[0m\u001b[0;34m,\u001b[0m \u001b[0mfunc\u001b[0m\u001b[0;34m,\u001b[0m \u001b[0miterable\u001b[0m\u001b[0;34m,\u001b[0m \u001b[0mchunksize\u001b[0m\u001b[0;34m=\u001b[0m\u001b[0;36m1\u001b[0m\u001b[0;34m)\u001b[0m\u001b[0;34m:\u001b[0m\u001b[0;34m\u001b[0m\u001b[0m\n",
      "\u001b[0;32m/mir3/ntellis/miniconda2/lib/python2.7/site-packages/multiprocess/pool.pyc\u001b[0m in \u001b[0;36mget\u001b[0;34m(self, timeout)\u001b[0m\n\u001b[1;32m    565\u001b[0m             \u001b[0;32mreturn\u001b[0m \u001b[0mself\u001b[0m\u001b[0;34m.\u001b[0m\u001b[0m_value\u001b[0m\u001b[0;34m\u001b[0m\u001b[0m\n\u001b[1;32m    566\u001b[0m         \u001b[0;32melse\u001b[0m\u001b[0;34m:\u001b[0m\u001b[0;34m\u001b[0m\u001b[0m\n\u001b[0;32m--> 567\u001b[0;31m             \u001b[0;32mraise\u001b[0m \u001b[0mself\u001b[0m\u001b[0;34m.\u001b[0m\u001b[0m_value\u001b[0m\u001b[0;34m\u001b[0m\u001b[0m\n\u001b[0m\u001b[1;32m    568\u001b[0m \u001b[0;34m\u001b[0m\u001b[0m\n\u001b[1;32m    569\u001b[0m     \u001b[0;32mdef\u001b[0m \u001b[0m_set\u001b[0m\u001b[0;34m(\u001b[0m\u001b[0mself\u001b[0m\u001b[0;34m,\u001b[0m \u001b[0mi\u001b[0m\u001b[0;34m,\u001b[0m \u001b[0mobj\u001b[0m\u001b[0;34m)\u001b[0m\u001b[0;34m:\u001b[0m\u001b[0;34m\u001b[0m\u001b[0m\n",
      "\u001b[0;31mNameError\u001b[0m: global name 'LS' is not defined"
     ]
    }
   ],
   "source": [
    "LS = runner.LaserSearch()\n",
    "p = Pool(2)\n",
    "search_multi = lambda x: LS.search_multiple([x], output_pngs=1,number_mads=10)\n",
    "pool_output = Pool.map(p, search_multi, acc[:3])"
   ]
  },
  {
   "cell_type": "code",
   "execution_count": null,
   "metadata": {},
   "outputs": [],
   "source": []
  }
 ],
 "metadata": {
  "kernelspec": {
   "display_name": "Python 2",
   "language": "python",
   "name": "python2"
  },
  "language_info": {
   "codemirror_mode": {
    "name": "ipython",
    "version": 2
   },
   "file_extension": ".py",
   "mimetype": "text/x-python",
   "name": "python",
   "nbconvert_exporter": "python",
   "pygments_lexer": "ipython2",
   "version": "2.7.14"
  }
 },
 "nbformat": 4,
 "nbformat_minor": 2
}
